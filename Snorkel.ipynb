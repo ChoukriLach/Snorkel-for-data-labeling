{
 "cells": [
  {
   "cell_type": "markdown",
   "id": "347d277c",
   "metadata": {},
   "source": [
    "This notebook demonstrates how to use snorkel for data labeling. Our goal here is to build a dataset which can be used to classify if a Youtube comment is Spam or Ham."
   ]
  },
  {
   "cell_type": "code",
   "execution_count": 1,
   "id": "8201a6bd",
   "metadata": {},
   "outputs": [],
   "source": [
    "import pandas as pd \n",
    "\n",
    "pd.set_option('display.max_rows', None)\n",
    "pd. set_option('display.max_columns', None)"
   ]
  },
  {
   "cell_type": "markdown",
   "id": "1cf15381",
   "metadata": {},
   "source": [
    "## Dataset"
   ]
  },
  {
   "cell_type": "markdown",
   "id": "9415bd0e",
   "metadata": {},
   "source": [
    "Let's get the Youtube spam classification dataset from the UCI ML Repository archive : http://archive.ics.uci.edu/ml/machine-learning-databases/00380/YouTube-Spam-Collection-v1.zip "
   ]
  },
  {
   "cell_type": "code",
   "execution_count": 2,
   "id": "b54e1683",
   "metadata": {},
   "outputs": [
    {
     "data": {
      "text/plain": [
       "[]"
      ]
     },
     "execution_count": 2,
     "metadata": {},
     "output_type": "execute_result"
    }
   ],
   "source": [
    "import os\n",
    "\n",
    "os.listdir(\"content\")"
   ]
  },
  {
   "cell_type": "code",
   "execution_count": 3,
   "id": "612202d9",
   "metadata": {},
   "outputs": [
    {
     "name": "stderr",
     "output_type": "stream",
     "text": [
      "fatal: destination path 'snorkel-tutorials' already exists and is not an empty directory.\n"
     ]
    }
   ],
   "source": [
    "!git clone https://github.com/snorkel-team/snorkel-tutorials.git\n",
    "\n",
    "source = \"content/\"\n",
    "destination = \"snorkel-tutorials/spam/data/\"\n",
    "\n",
    "os.makedirs(destination, exist_ok= True)\n",
    "\n",
    "files = os.listdir(source)\n",
    "\n",
    "for file in files:\n",
    "    new_path = shutil.move(f\"{source}/{file}\", destination)\n",
    "\n",
    "os.chdir(\"snorkel-tutorials/spam\")"
   ]
  },
  {
   "cell_type": "markdown",
   "id": "b38b3b16",
   "metadata": {},
   "source": [
    "## Making the necessary imports"
   ]
  },
  {
   "cell_type": "code",
   "execution_count": 4,
   "id": "158059ab",
   "metadata": {},
   "outputs": [],
   "source": [
    "import re\n",
    "import glob\n",
    "\n",
    "import utils\n",
    "\n",
    "from snorkel.analysis import get_label_buckets\n",
    "\n",
    "from snorkel.labeling import labeling_function\n",
    "from snorkel.labeling import LFAnalysis\n",
    "from snorkel.labeling import PandasLFApplier\n",
    "from snorkel.labeling import LabelingFunction\n",
    "from snorkel.labeling.model import MajorityLabelVoter\n",
    "from snorkel.labeling.model import LabelModel\n",
    "from snorkel.labeling import filter_unlabeled_dataframe\n",
    "from snorkel.labeling.lf.nlp import nlp_labeling_function\n",
    "\n",
    "from snorkel.preprocess import preprocessor\n",
    "from snorkel.preprocess.nlp import SpacyPreprocessor\n",
    "\n",
    "from snorkel.utils import probs_to_preds\n",
    "\n",
    "from textblob import TextBlob\n",
    "\n",
    "import pandas as pd\n",
    "import numpy as np\n",
    "\n",
    "from sklearn.feature_extraction.text import CountVectorizer\n",
    "from sklearn.linear_model import LogisticRegression\n",
    "from sklearn.model_selection import train_test_split\n",
    "\n",
    "import matplotlib.pyplot as plt\n",
    "%matplotlib inline"
   ]
  },
  {
   "cell_type": "code",
   "execution_count": 5,
   "id": "d25f7d2e",
   "metadata": {},
   "outputs": [],
   "source": [
    "def load_spam_dataset(load_train_labels: bool = False, split_dev_valid: bool = False):\n",
    "    filenames = sorted(glob.glob(\"data/Youtube*.csv\"))\n",
    "    dfs = []\n",
    "    for i, filename in enumerate(filenames, start=1):\n",
    "        df = pd.read_csv(filename)\n",
    "        # Lowercase column names\n",
    "        df.columns = map(str.lower, df.columns)\n",
    "        # Remove comment_id field\n",
    "        df = df.drop(\"comment_id\", axis=1)\n",
    "        # Add field indicating source video\n",
    "        df[\"video\"] = [i] * len(df)\n",
    "        # Rename fields\n",
    "        df = df.rename(columns={\"class\": \"label\", \"content\": \"text\"})\n",
    "        # Shuffle order\n",
    "        df = df.sample(frac=1, random_state=123).reset_index(drop=True)\n",
    "        dfs.append(df)\n",
    "\n",
    "    df_train = pd.concat(dfs[:4])\n",
    "    df_dev = df_train.sample(100, random_state=123)\n",
    "\n",
    "    if not load_train_labels:\n",
    "        df_train[\"label\"] = np.ones(len(df_train[\"label\"])) * -1\n",
    "    df_valid_test = dfs[4]\n",
    "    df_valid, df_test = train_test_split(\n",
    "        df_valid_test, test_size=250, random_state=123, stratify=df_valid_test.label\n",
    "    )\n",
    "\n",
    "    if split_dev_valid:\n",
    "        return df_train, df_dev, df_valid, df_test\n",
    "    else:\n",
    "        return df_train, df_test"
   ]
  },
  {
   "cell_type": "code",
   "execution_count": 6,
   "id": "6dcac2a9",
   "metadata": {},
   "outputs": [
    {
     "name": "stdout",
     "output_type": "stream",
     "text": [
      "Train\n"
     ]
    },
    {
     "data": {
      "text/html": [
       "<div>\n",
       "<style scoped>\n",
       "    .dataframe tbody tr th:only-of-type {\n",
       "        vertical-align: middle;\n",
       "    }\n",
       "\n",
       "    .dataframe tbody tr th {\n",
       "        vertical-align: top;\n",
       "    }\n",
       "\n",
       "    .dataframe thead th {\n",
       "        text-align: right;\n",
       "    }\n",
       "</style>\n",
       "<table border=\"1\" class=\"dataframe\">\n",
       "  <thead>\n",
       "    <tr style=\"text-align: right;\">\n",
       "      <th></th>\n",
       "      <th>author</th>\n",
       "      <th>date</th>\n",
       "      <th>text</th>\n",
       "      <th>label</th>\n",
       "      <th>video</th>\n",
       "    </tr>\n",
       "  </thead>\n",
       "  <tbody>\n",
       "    <tr>\n",
       "      <th>0</th>\n",
       "      <td>Alessandro leite</td>\n",
       "      <td>2014-11-05T22:21:36</td>\n",
       "      <td>pls http://www10.vakinha.com.br/VaquinhaE.aspx...</td>\n",
       "      <td>-1.0</td>\n",
       "      <td>1</td>\n",
       "    </tr>\n",
       "    <tr>\n",
       "      <th>1</th>\n",
       "      <td>Salim Tayara</td>\n",
       "      <td>2014-11-02T14:33:30</td>\n",
       "      <td>if your like drones, plz subscribe to Kamal Ta...</td>\n",
       "      <td>-1.0</td>\n",
       "      <td>1</td>\n",
       "    </tr>\n",
       "    <tr>\n",
       "      <th>2</th>\n",
       "      <td>Phuc Ly</td>\n",
       "      <td>2014-01-20T15:27:47</td>\n",
       "      <td>go here to check the views :3﻿</td>\n",
       "      <td>-1.0</td>\n",
       "      <td>1</td>\n",
       "    </tr>\n",
       "    <tr>\n",
       "      <th>3</th>\n",
       "      <td>DropShotSk8r</td>\n",
       "      <td>2014-01-19T04:27:18</td>\n",
       "      <td>Came here to check the views, goodbye.﻿</td>\n",
       "      <td>-1.0</td>\n",
       "      <td>1</td>\n",
       "    </tr>\n",
       "    <tr>\n",
       "      <th>4</th>\n",
       "      <td>css403</td>\n",
       "      <td>2014-11-07T14:25:48</td>\n",
       "      <td>i am 2,126,492,636 viewer :D﻿</td>\n",
       "      <td>-1.0</td>\n",
       "      <td>1</td>\n",
       "    </tr>\n",
       "  </tbody>\n",
       "</table>\n",
       "</div>"
      ],
      "text/plain": [
       "             author                 date  \\\n",
       "0  Alessandro leite  2014-11-05T22:21:36   \n",
       "1      Salim Tayara  2014-11-02T14:33:30   \n",
       "2           Phuc Ly  2014-01-20T15:27:47   \n",
       "3      DropShotSk8r  2014-01-19T04:27:18   \n",
       "4            css403  2014-11-07T14:25:48   \n",
       "\n",
       "                                                text  label  video  \n",
       "0  pls http://www10.vakinha.com.br/VaquinhaE.aspx...   -1.0      1  \n",
       "1  if your like drones, plz subscribe to Kamal Ta...   -1.0      1  \n",
       "2                     go here to check the views :3﻿   -1.0      1  \n",
       "3            Came here to check the views, goodbye.﻿   -1.0      1  \n",
       "4                      i am 2,126,492,636 viewer :D﻿   -1.0      1  "
      ]
     },
     "metadata": {},
     "output_type": "display_data"
    },
    {
     "name": "stdout",
     "output_type": "stream",
     "text": [
      "Test\n"
     ]
    },
    {
     "data": {
      "text/html": [
       "<div>\n",
       "<style scoped>\n",
       "    .dataframe tbody tr th:only-of-type {\n",
       "        vertical-align: middle;\n",
       "    }\n",
       "\n",
       "    .dataframe tbody tr th {\n",
       "        vertical-align: top;\n",
       "    }\n",
       "\n",
       "    .dataframe thead th {\n",
       "        text-align: right;\n",
       "    }\n",
       "</style>\n",
       "<table border=\"1\" class=\"dataframe\">\n",
       "  <thead>\n",
       "    <tr style=\"text-align: right;\">\n",
       "      <th></th>\n",
       "      <th>author</th>\n",
       "      <th>date</th>\n",
       "      <th>text</th>\n",
       "      <th>label</th>\n",
       "      <th>video</th>\n",
       "    </tr>\n",
       "  </thead>\n",
       "  <tbody>\n",
       "    <tr>\n",
       "      <th>27</th>\n",
       "      <td>‫حلم الشباب‬‎</td>\n",
       "      <td>2015-05-25T23:42:49.533000</td>\n",
       "      <td>Check out this video on YouTube:﻿</td>\n",
       "      <td>1</td>\n",
       "      <td>5</td>\n",
       "    </tr>\n",
       "    <tr>\n",
       "      <th>194</th>\n",
       "      <td>MOHAMED THASLEEM</td>\n",
       "      <td>2015-05-24T07:03:59.488000</td>\n",
       "      <td>super music﻿</td>\n",
       "      <td>0</td>\n",
       "      <td>5</td>\n",
       "    </tr>\n",
       "    <tr>\n",
       "      <th>277</th>\n",
       "      <td>AlabaGames</td>\n",
       "      <td>2015-05-22T00:31:43.922000</td>\n",
       "      <td>Subscribe my channel  I RECORDING FIFA 15 GOAL...</td>\n",
       "      <td>1</td>\n",
       "      <td>5</td>\n",
       "    </tr>\n",
       "    <tr>\n",
       "      <th>132</th>\n",
       "      <td>Manish Ray</td>\n",
       "      <td>2015-05-23T08:55:07.512000</td>\n",
       "      <td>This song is so beauty</td>\n",
       "      <td>0</td>\n",
       "      <td>5</td>\n",
       "    </tr>\n",
       "    <tr>\n",
       "      <th>163</th>\n",
       "      <td>Sudheer Yadav</td>\n",
       "      <td>2015-05-28T10:28:25.133000</td>\n",
       "      <td>SEE SOME MORE SONG OPEN GOOGLE AND TYPE Shakir...</td>\n",
       "      <td>1</td>\n",
       "      <td>5</td>\n",
       "    </tr>\n",
       "  </tbody>\n",
       "</table>\n",
       "</div>"
      ],
      "text/plain": [
       "               author                        date  \\\n",
       "27      ‫حلم الشباب‬‎  2015-05-25T23:42:49.533000   \n",
       "194  MOHAMED THASLEEM  2015-05-24T07:03:59.488000   \n",
       "277        AlabaGames  2015-05-22T00:31:43.922000   \n",
       "132        Manish Ray  2015-05-23T08:55:07.512000   \n",
       "163     Sudheer Yadav  2015-05-28T10:28:25.133000   \n",
       "\n",
       "                                                  text  label  video  \n",
       "27                   Check out this video on YouTube:﻿      1      5  \n",
       "194                                       super music﻿      0      5  \n",
       "277  Subscribe my channel  I RECORDING FIFA 15 GOAL...      1      5  \n",
       "132                             This song is so beauty      0      5  \n",
       "163  SEE SOME MORE SONG OPEN GOOGLE AND TYPE Shakir...      1      5  "
      ]
     },
     "execution_count": 6,
     "metadata": {},
     "output_type": "execute_result"
    }
   ],
   "source": [
    "df_train, df_test = load_spam_dataset()\n",
    "print(\"Train\")\n",
    "display(df_train.head())\n",
    "print('Test')\n",
    "df_test.head()"
   ]
  },
  {
   "cell_type": "code",
   "execution_count": 7,
   "id": "38c58cb5",
   "metadata": {},
   "outputs": [
    {
     "data": {
      "text/plain": [
       "array([1, 0, 1, 0, 1], dtype=int64)"
      ]
     },
     "execution_count": 7,
     "metadata": {},
     "output_type": "execute_result"
    }
   ],
   "source": [
    "Y_test = df_test.label.values\n",
    "Y_test[:5]"
   ]
  },
  {
   "cell_type": "markdown",
   "id": "15b5fafa",
   "metadata": {},
   "source": [
    "There are a few things to keep in mind with respect to the dataset:\n",
    "\n",
    "- **1 . HAM represents a NON-SPAM comment.**\n",
    "- **2 . SPAM is a SPAM comment**\n",
    "- **3 . ABSTAIN is for neither of the above**\n",
    "\n",
    "We initialise their respective values below"
   ]
  },
  {
   "cell_type": "code",
   "execution_count": 8,
   "id": "78070127",
   "metadata": {},
   "outputs": [],
   "source": [
    "ABSTAIN = -1\n",
    "HAM = 0\n",
    "SPAM = 1"
   ]
  },
  {
   "cell_type": "markdown",
   "id": "5c1c98a0",
   "metadata": {},
   "source": [
    "We need to find some pattern in the data, so as to create rules for labeling the data.\n",
    "Hence, we randomly display some rows of the dataset so that we can try to find some pattern in the text."
   ]
  },
  {
   "cell_type": "code",
   "execution_count": 9,
   "id": "36c31628",
   "metadata": {},
   "outputs": [
    {
     "data": {
      "text/html": [
       "<div>\n",
       "<style scoped>\n",
       "    .dataframe tbody tr th:only-of-type {\n",
       "        vertical-align: middle;\n",
       "    }\n",
       "\n",
       "    .dataframe tbody tr th {\n",
       "        vertical-align: top;\n",
       "    }\n",
       "\n",
       "    .dataframe thead th {\n",
       "        text-align: right;\n",
       "    }\n",
       "</style>\n",
       "<table border=\"1\" class=\"dataframe\">\n",
       "  <thead>\n",
       "    <tr style=\"text-align: right;\">\n",
       "      <th></th>\n",
       "      <th>author</th>\n",
       "      <th>text</th>\n",
       "      <th>video</th>\n",
       "    </tr>\n",
       "  </thead>\n",
       "  <tbody>\n",
       "    <tr>\n",
       "      <th>240</th>\n",
       "      <td>Lucas Trigo</td>\n",
       "      <td>WHATS UP EVERYONE!? :-) I Trying To Showcase M...</td>\n",
       "      <td>1</td>\n",
       "    </tr>\n",
       "    <tr>\n",
       "      <th>211</th>\n",
       "      <td>Blaze Rod</td>\n",
       "      <td>when i see this back in 2015 i ask myself how ...</td>\n",
       "      <td>3</td>\n",
       "    </tr>\n",
       "    <tr>\n",
       "      <th>228</th>\n",
       "      <td>MasterRobotTV</td>\n",
       "      <td>http://www.twitch.tv/zxlightsoutxz﻿</td>\n",
       "      <td>1</td>\n",
       "    </tr>\n",
       "    <tr>\n",
       "      <th>207</th>\n",
       "      <td>Franklin Music</td>\n",
       "      <td>Very Nice !﻿</td>\n",
       "      <td>3</td>\n",
       "    </tr>\n",
       "    <tr>\n",
       "      <th>153</th>\n",
       "      <td>lebanonwarior1</td>\n",
       "      <td>Song name??﻿</td>\n",
       "      <td>1</td>\n",
       "    </tr>\n",
       "    <tr>\n",
       "      <th>8</th>\n",
       "      <td>yenis maría Rodríguez</td>\n",
       "      <td>2015 LIKEEE﻿</td>\n",
       "      <td>3</td>\n",
       "    </tr>\n",
       "    <tr>\n",
       "      <th>62</th>\n",
       "      <td>RapStarz Coleman</td>\n",
       "      <td>Subscribe To Mê Please Guys</td>\n",
       "      <td>4</td>\n",
       "    </tr>\n",
       "    <tr>\n",
       "      <th>54</th>\n",
       "      <td>Jd Hurst</td>\n",
       "      <td>Check out this video on YouTube:﻿</td>\n",
       "      <td>3</td>\n",
       "    </tr>\n",
       "    <tr>\n",
       "      <th>353</th>\n",
       "      <td>jefflynnejp</td>\n",
       "      <td>Check out this video on YouTube: ﻿</td>\n",
       "      <td>3</td>\n",
       "    </tr>\n",
       "    <tr>\n",
       "      <th>406</th>\n",
       "      <td>eliška žáková</td>\n",
       "      <td>CUTE  :)﻿</td>\n",
       "      <td>3</td>\n",
       "    </tr>\n",
       "    <tr>\n",
       "      <th>375</th>\n",
       "      <td>Chris Bieber</td>\n",
       "      <td>Love the way you lie II is nicer in my opinion...</td>\n",
       "      <td>4</td>\n",
       "    </tr>\n",
       "    <tr>\n",
       "      <th>270</th>\n",
       "      <td>Angela Alor</td>\n",
       "      <td>HOW DO YOU PUT A PICTURE FOR YOUR IMAGE THINGI...</td>\n",
       "      <td>3</td>\n",
       "    </tr>\n",
       "    <tr>\n",
       "      <th>44</th>\n",
       "      <td>BlueYetiPlayz -Call Of Duty and More</td>\n",
       "      <td>subscribe to me for call of duty vids and give...</td>\n",
       "      <td>1</td>\n",
       "    </tr>\n",
       "    <tr>\n",
       "      <th>295</th>\n",
       "      <td>the34104</td>\n",
       "      <td>check out eminem latest track survival if u didnt</td>\n",
       "      <td>4</td>\n",
       "    </tr>\n",
       "    <tr>\n",
       "      <th>223</th>\n",
       "      <td>Truc Ng</td>\n",
       "      <td>https://www.facebook.com/myfunnyriddles﻿</td>\n",
       "      <td>2</td>\n",
       "    </tr>\n",
       "    <tr>\n",
       "      <th>144</th>\n",
       "      <td>Nina Mackie</td>\n",
       "      <td>Take a look at this video on YouTub&lt;br /&gt;You﻿</td>\n",
       "      <td>3</td>\n",
       "    </tr>\n",
       "    <tr>\n",
       "      <th>340</th>\n",
       "      <td>DanteBTV</td>\n",
       "      <td>Check Out The New Hot Video By Dante B Called ...</td>\n",
       "      <td>4</td>\n",
       "    </tr>\n",
       "    <tr>\n",
       "      <th>19</th>\n",
       "      <td>Paul Garza</td>\n",
       "      <td>Check out this video on YouTube:﻿</td>\n",
       "      <td>3</td>\n",
       "    </tr>\n",
       "    <tr>\n",
       "      <th>185</th>\n",
       "      <td>Bo Lanciné MAGASSOUBA</td>\n",
       "      <td>WE GO FOR 1,000,000,000 FOR EMINEM﻿</td>\n",
       "      <td>4</td>\n",
       "    </tr>\n",
       "    <tr>\n",
       "      <th>73</th>\n",
       "      <td>MrValentinique</td>\n",
       "      <td>https://www.facebook.com/eeccon/posts/73394924...</td>\n",
       "      <td>1</td>\n",
       "    </tr>\n",
       "  </tbody>\n",
       "</table>\n",
       "</div>"
      ],
      "text/plain": [
       "                                   author  \\\n",
       "240                           Lucas Trigo   \n",
       "211                             Blaze Rod   \n",
       "228                         MasterRobotTV   \n",
       "207                        Franklin Music   \n",
       "153                        lebanonwarior1   \n",
       "8                   yenis maría Rodríguez   \n",
       "62                       RapStarz Coleman   \n",
       "54                               Jd Hurst   \n",
       "353                           jefflynnejp   \n",
       "406                         eliška žáková   \n",
       "375                          Chris Bieber   \n",
       "270                           Angela Alor   \n",
       "44   BlueYetiPlayz -Call Of Duty and More   \n",
       "295                              the34104   \n",
       "223                               Truc Ng   \n",
       "144                           Nina Mackie   \n",
       "340                              DanteBTV   \n",
       "19                             Paul Garza   \n",
       "185                 Bo Lanciné MAGASSOUBA   \n",
       "73                         MrValentinique   \n",
       "\n",
       "                                                  text  video  \n",
       "240  WHATS UP EVERYONE!? :-) I Trying To Showcase M...      1  \n",
       "211  when i see this back in 2015 i ask myself how ...      3  \n",
       "228                http://www.twitch.tv/zxlightsoutxz﻿      1  \n",
       "207                                       Very Nice !﻿      3  \n",
       "153                                       Song name??﻿      1  \n",
       "8                                         2015 LIKEEE﻿      3  \n",
       "62                         Subscribe To Mê Please Guys      4  \n",
       "54                   Check out this video on YouTube:﻿      3  \n",
       "353                 Check out this video on YouTube: ﻿      3  \n",
       "406                                          CUTE  :)﻿      3  \n",
       "375  Love the way you lie II is nicer in my opinion...      4  \n",
       "270  HOW DO YOU PUT A PICTURE FOR YOUR IMAGE THINGI...      3  \n",
       "44   subscribe to me for call of duty vids and give...      1  \n",
       "295  check out eminem latest track survival if u didnt      4  \n",
       "223           https://www.facebook.com/myfunnyriddles﻿      2  \n",
       "144      Take a look at this video on YouTub<br />You﻿      3  \n",
       "340  Check Out The New Hot Video By Dante B Called ...      4  \n",
       "19                   Check out this video on YouTube:﻿      3  \n",
       "185                WE GO FOR 1,000,000,000 FOR EMINEM﻿      4  \n",
       "73   https://www.facebook.com/eeccon/posts/73394924...      1  "
      ]
     },
     "execution_count": 9,
     "metadata": {},
     "output_type": "execute_result"
    }
   ],
   "source": [
    "df_train[[\"author\", \"text\", \"video\"]].sample(20, random_state=2020)"
   ]
  },
  {
   "cell_type": "markdown",
   "id": "3d756087",
   "metadata": {},
   "source": [
    "An example for how a labeling function can be defined , anything that might match the pattern of a spam message can be used , here http is an example to show as many spam comments may contain links"
   ]
  },
  {
   "cell_type": "code",
   "execution_count": 10,
   "id": "a7e24c66",
   "metadata": {},
   "outputs": [],
   "source": [
    "@labeling_function()\n",
    "def lf_contains_link(x):\n",
    "    # Return a label of SPAM if \"http\" in comment text, otherwise ABSTAIN\n",
    "    return SPAM if \"http\" in x.text.lower() else ABSTAIN"
   ]
  },
  {
   "cell_type": "markdown",
   "id": "002aed88",
   "metadata": {},
   "source": [
    "Defining labeling functions to check strings such as 'check', 'check out', 'http', 'my channel', 'subscribe'\n",
    "Try to write your own labeling functions too."
   ]
  },
  {
   "cell_type": "code",
   "execution_count": 11,
   "id": "f0a83a5b",
   "metadata": {},
   "outputs": [],
   "source": [
    "@labeling_function()\n",
    "def check(x):\n",
    "    return SPAM if \"check\" in x.text.lower() else ABSTAIN\n",
    "\n",
    "@labeling_function()\n",
    "def check_out(x):\n",
    "    return SPAM if \"check out\" in x.text.lower() else ABSTAIN\n",
    "\n",
    "@labeling_function()\n",
    "def my_channel(x):\n",
    "    return SPAM if \"my channel\" in x.text.lower() else ABSTAIN\n",
    "\n",
    "@labeling_function()\n",
    "def if_subscribe(x):\n",
    "    return SPAM if \"subscribe\" in x.text.lower() else ABSTAIN"
   ]
  },
  {
   "cell_type": "markdown",
   "id": "9472d8b4",
   "metadata": {},
   "source": [
    "Using **LFApplier** to use our labelling fucntions with pandas dataframe object.\n",
    "\n",
    "these labeling functions can also be used on columns other than 'text'"
   ]
  },
  {
   "cell_type": "code",
   "execution_count": 12,
   "id": "045ee2f6",
   "metadata": {},
   "outputs": [
    {
     "name": "stderr",
     "output_type": "stream",
     "text": [
      "100%|██████████| 1586/1586 [00:00<00:00, 16346.48it/s]\n"
     ]
    }
   ],
   "source": [
    "lfs = [check_out, check, lf_contains_link, my_channel, if_subscribe]\n",
    "\n",
    "applier = PandasLFApplier(lfs=lfs)\n",
    "L_train = applier.apply(df=df_train)"
   ]
  },
  {
   "cell_type": "code",
   "execution_count": 13,
   "id": "b40c2ede",
   "metadata": {},
   "outputs": [
    {
     "data": {
      "text/plain": [
       "array([[-1, -1,  1, -1, -1],\n",
       "       [-1, -1, -1, -1,  1],\n",
       "       [-1,  1, -1, -1, -1],\n",
       "       ...,\n",
       "       [ 1,  1, -1,  1,  1],\n",
       "       [-1,  1, -1, -1,  1],\n",
       "       [ 1,  1, -1, -1, -1]])"
      ]
     },
     "execution_count": 13,
     "metadata": {},
     "output_type": "execute_result"
    }
   ],
   "source": [
    "L_train"
   ]
  },
  {
   "cell_type": "code",
   "execution_count": 14,
   "id": "478c519f",
   "metadata": {},
   "outputs": [
    {
     "name": "stdout",
     "output_type": "stream",
     "text": [
      "check_out coverage: 21.4%\n",
      "check coverage: 25.8%\n",
      "link coverage: 11.9%\n",
      "my_channel coverage: 7.0%\n",
      "if_subscribe coverage: 12.7%\n"
     ]
    }
   ],
   "source": [
    "coverage_check_out, coverage_check, coverage_link, coverage_my_channel, coverage_subscribe= (L_train != ABSTAIN).mean(axis=0)\n",
    "print(f\"check_out coverage: {coverage_check_out * 100:.1f}%\")\n",
    "print(f\"check coverage: {coverage_check * 100:.1f}%\")\n",
    "print(f\"link coverage: {coverage_link * 100:.1f}%\")\n",
    "print(f\"my_channel coverage: {coverage_my_channel * 100:.1f}%\")\n",
    "print(f\"if_subscribe coverage: {coverage_subscribe * 100:.1f}%\")"
   ]
  },
  {
   "cell_type": "markdown",
   "id": "36988510",
   "metadata": {},
   "source": [
    "Understanding the polarity, overlaps, and conflicts helps in evaluating the behavior and agreement of labeling functions . \n",
    "\n",
    "Before we procees further, let us understand a bit of jargon with respect to the summary of the LFAnalysis\n",
    "\n",
    "- **Polarity** - set of unique labels that the labeling function outputs (excluding Abstains)\n",
    "\n",
    "- **Overlaps** - where there is atleast one common entry for more than one labeling functions i.e the labeling fucntions agree upon the value to be returned\n",
    "\n",
    "- **Conflicts** - where the labeling functions disagree upon the value to be returned"
   ]
  },
  {
   "cell_type": "markdown",
   "id": "bff44e6c",
   "metadata": {},
   "source": [
    "Before we procees further, let us understand a bit of jargon with respect to the summary of the LFAnalysis\n",
    "\n",
    "- Polarity - set of unique labels that the labeling function outputs (excluding Abstains)\n",
    "\n",
    "- Overlaps - where there is atleast one common entry for more than one labeling functions i.e the labeling fucntions agree upon the value to be returned\n",
    "\n",
    "- Conflicts - where the labeling functions disagree upon the value to be returned\n",
    "\n",
    "Let's consider a specific example to illustrate the concepts of polarity, overlaps, and conflicts.\n",
    "\n",
    "Suppose we have three labeling functions that are tasked with classifying movie reviews as either positive or negative sentiment. The labeling functions are as follows:\n",
    "\n",
    "- Labeling Function 1: Checks for the presence of positive words like \"great,\" \"awesome,\" or \"excellent\" in the review. If any of these words are found, it assigns a positive label; otherwise, it abstains.\n",
    "\n",
    "- Labeling Function 2: Analyzes the overall rating given by the reviewer. If the rating is 4 or 5 stars, it assigns a positive label; otherwise, it abstains.\n",
    "\n",
    "- Labeling Function 3: Looks for negative words like \"terrible,\" \"awful,\" or \"disappointing\" in the review. If any of these words are found, it assigns a negative label; otherwise, it abstains.\n",
    "\n",
    "Now, let's consider a movie review: \"The acting was great, but the plot was disappointing.\" We'll see how these labeling functions work and identify the polarity, overlaps, and conflicts.\n",
    "\n",
    "Labeling Function 1: It detects the word \"great\" in the review and assigns a positive label.\n",
    "\n",
    "Labeling Function 2: It doesn't consider the specific words but relies on the overall rating. Since no rating is mentioned, it abstains.\n",
    "\n",
    "Labeling Function 3: It identifies the word \"disappointing\" and assigns a negative label.\n",
    "\n",
    "In this example, the polarity would be the set of unique labels assigned by the labeling functions, excluding abstains. So, in this case, the polarity would be {positive, negative}.\n",
    "\n",
    "Next, we look at overlaps, which represent cases where there is at least one common label among the labeling functions. Here, Labeling Functions 1 and 3 both disagree . So, there is no overlap between them.\n",
    "\n",
    "Finally, conflicts occur when the labeling functions disagree on the assigned label. In this example, there is a conflict between Labeling Function 1 (positive label) and Labeling Function 3 (negative label) since they provide different labels for the same input.\n",
    "\n",
    "To summarize:\n",
    "- Polarity: {positive, negative}\n",
    "- No Overlaps: {Labeling Function 1, Labeling Function 3}\n",
    "- Conflicts: {Labeling Function 1, Labeling Function 3}"
   ]
  },
  {
   "cell_type": "code",
   "execution_count": 15,
   "id": "5c3c442d",
   "metadata": {},
   "outputs": [
    {
     "data": {
      "text/html": [
       "<div>\n",
       "<style scoped>\n",
       "    .dataframe tbody tr th:only-of-type {\n",
       "        vertical-align: middle;\n",
       "    }\n",
       "\n",
       "    .dataframe tbody tr th {\n",
       "        vertical-align: top;\n",
       "    }\n",
       "\n",
       "    .dataframe thead th {\n",
       "        text-align: right;\n",
       "    }\n",
       "</style>\n",
       "<table border=\"1\" class=\"dataframe\">\n",
       "  <thead>\n",
       "    <tr style=\"text-align: right;\">\n",
       "      <th></th>\n",
       "      <th>j</th>\n",
       "      <th>Polarity</th>\n",
       "      <th>Coverage</th>\n",
       "      <th>Overlaps</th>\n",
       "      <th>Conflicts</th>\n",
       "    </tr>\n",
       "  </thead>\n",
       "  <tbody>\n",
       "    <tr>\n",
       "      <th>check_out</th>\n",
       "      <td>0</td>\n",
       "      <td>[1]</td>\n",
       "      <td>0.214376</td>\n",
       "      <td>0.214376</td>\n",
       "      <td>0.0</td>\n",
       "    </tr>\n",
       "    <tr>\n",
       "      <th>check</th>\n",
       "      <td>1</td>\n",
       "      <td>[1]</td>\n",
       "      <td>0.257881</td>\n",
       "      <td>0.233922</td>\n",
       "      <td>0.0</td>\n",
       "    </tr>\n",
       "    <tr>\n",
       "      <th>lf_contains_link</th>\n",
       "      <td>2</td>\n",
       "      <td>[1]</td>\n",
       "      <td>0.119168</td>\n",
       "      <td>0.011980</td>\n",
       "      <td>0.0</td>\n",
       "    </tr>\n",
       "    <tr>\n",
       "      <th>my_channel</th>\n",
       "      <td>3</td>\n",
       "      <td>[1]</td>\n",
       "      <td>0.069987</td>\n",
       "      <td>0.057377</td>\n",
       "      <td>0.0</td>\n",
       "    </tr>\n",
       "    <tr>\n",
       "      <th>if_subscribe</th>\n",
       "      <td>4</td>\n",
       "      <td>[1]</td>\n",
       "      <td>0.127364</td>\n",
       "      <td>0.054855</td>\n",
       "      <td>0.0</td>\n",
       "    </tr>\n",
       "  </tbody>\n",
       "</table>\n",
       "</div>"
      ],
      "text/plain": [
       "                  j Polarity  Coverage  Overlaps  Conflicts\n",
       "check_out         0      [1]  0.214376  0.214376        0.0\n",
       "check             1      [1]  0.257881  0.233922        0.0\n",
       "lf_contains_link  2      [1]  0.119168  0.011980        0.0\n",
       "my_channel        3      [1]  0.069987  0.057377        0.0\n",
       "if_subscribe      4      [1]  0.127364  0.054855        0.0"
      ]
     },
     "execution_count": 15,
     "metadata": {},
     "output_type": "execute_result"
    }
   ],
   "source": [
    "LFAnalysis(L=L_train, lfs=lfs).lf_summary()"
   ]
  },
  {
   "cell_type": "markdown",
   "id": "5773a1a0",
   "metadata": {},
   "source": [
    "Trying and checking the results by filtering out the matching rows and checking for false positives"
   ]
  },
  {
   "cell_type": "code",
   "execution_count": 16,
   "id": "c192e4d9",
   "metadata": {},
   "outputs": [
    {
     "data": {
      "text/html": [
       "<div>\n",
       "<style scoped>\n",
       "    .dataframe tbody tr th:only-of-type {\n",
       "        vertical-align: middle;\n",
       "    }\n",
       "\n",
       "    .dataframe tbody tr th {\n",
       "        vertical-align: top;\n",
       "    }\n",
       "\n",
       "    .dataframe thead th {\n",
       "        text-align: right;\n",
       "    }\n",
       "</style>\n",
       "<table border=\"1\" class=\"dataframe\">\n",
       "  <thead>\n",
       "    <tr style=\"text-align: right;\">\n",
       "      <th></th>\n",
       "      <th>author</th>\n",
       "      <th>date</th>\n",
       "      <th>text</th>\n",
       "      <th>label</th>\n",
       "      <th>video</th>\n",
       "    </tr>\n",
       "  </thead>\n",
       "  <tbody>\n",
       "    <tr>\n",
       "      <th>34</th>\n",
       "      <td>TA Stealth</td>\n",
       "      <td>2015-03-11T01:25:46.234000</td>\n",
       "      <td>Cool Video LMFAOVEVO! You should check out my ...</td>\n",
       "      <td>-1.0</td>\n",
       "      <td>3</td>\n",
       "    </tr>\n",
       "    <tr>\n",
       "      <th>288</th>\n",
       "      <td>ItsJoey Dash</td>\n",
       "      <td>2014-07-22T10:02:25.925000</td>\n",
       "      <td>EVERYONE PLEASE GO SUBSCRIBE TO MY CHANNEL OR ...</td>\n",
       "      <td>-1.0</td>\n",
       "      <td>3</td>\n",
       "    </tr>\n",
       "    <tr>\n",
       "      <th>36</th>\n",
       "      <td>Victor Gamer</td>\n",
       "      <td>2015-04-13T02:00:20.152000</td>\n",
       "      <td>View 851.247.920&lt;br /&gt;&lt;br /&gt; Best youtube Vide...</td>\n",
       "      <td>-1.0</td>\n",
       "      <td>3</td>\n",
       "    </tr>\n",
       "    <tr>\n",
       "      <th>263</th>\n",
       "      <td>Backup Plus</td>\n",
       "      <td>2014-11-03T17:39:07</td>\n",
       "      <td>Suscribe My Channel Please XD lol﻿</td>\n",
       "      <td>-1.0</td>\n",
       "      <td>1</td>\n",
       "    </tr>\n",
       "    <tr>\n",
       "      <th>386</th>\n",
       "      <td>ItsJoey Dash</td>\n",
       "      <td>2014-07-22T10:04:05.755000</td>\n",
       "      <td>EVERYONE PLEASE SUBSCRIBE TO MY CHANNEL OR CAN...</td>\n",
       "      <td>-1.0</td>\n",
       "      <td>3</td>\n",
       "    </tr>\n",
       "    <tr>\n",
       "      <th>404</th>\n",
       "      <td>M.E.S</td>\n",
       "      <td>NaN</td>\n",
       "      <td>hey its M.E.S here I&amp;#39;m a young up and comi...</td>\n",
       "      <td>-1.0</td>\n",
       "      <td>4</td>\n",
       "    </tr>\n",
       "    <tr>\n",
       "      <th>341</th>\n",
       "      <td>superfacoo</td>\n",
       "      <td>NaN</td>\n",
       "      <td>Hey? Everyone Please take a moment to read thi...</td>\n",
       "      <td>-1.0</td>\n",
       "      <td>4</td>\n",
       "    </tr>\n",
       "    <tr>\n",
       "      <th>229</th>\n",
       "      <td>Terry-Lee Mackenney</td>\n",
       "      <td>NaN</td>\n",
       "      <td>Hi Guys im an Upcoming Rapper if you could che...</td>\n",
       "      <td>-1.0</td>\n",
       "      <td>4</td>\n",
       "    </tr>\n",
       "    <tr>\n",
       "      <th>157</th>\n",
       "      <td>TopMusicWorld HD</td>\n",
       "      <td>2014-10-19T23:27:50</td>\n",
       "      <td>Please Subscribe In My Channel →﻿</td>\n",
       "      <td>-1.0</td>\n",
       "      <td>2</td>\n",
       "    </tr>\n",
       "    <tr>\n",
       "      <th>48</th>\n",
       "      <td>Kiddy Kidso</td>\n",
       "      <td>2014-01-19T16:49:52</td>\n",
       "      <td>Check my channel please! And listen to the bes...</td>\n",
       "      <td>-1.0</td>\n",
       "      <td>1</td>\n",
       "    </tr>\n",
       "  </tbody>\n",
       "</table>\n",
       "</div>"
      ],
      "text/plain": [
       "                  author                        date  \\\n",
       "34            TA Stealth  2015-03-11T01:25:46.234000   \n",
       "288         ItsJoey Dash  2014-07-22T10:02:25.925000   \n",
       "36          Victor Gamer  2015-04-13T02:00:20.152000   \n",
       "263          Backup Plus         2014-11-03T17:39:07   \n",
       "386         ItsJoey Dash  2014-07-22T10:04:05.755000   \n",
       "404                M.E.S                         NaN   \n",
       "341           superfacoo                         NaN   \n",
       "229  Terry-Lee Mackenney                         NaN   \n",
       "157     TopMusicWorld HD         2014-10-19T23:27:50   \n",
       "48           Kiddy Kidso         2014-01-19T16:49:52   \n",
       "\n",
       "                                                  text  label  video  \n",
       "34   Cool Video LMFAOVEVO! You should check out my ...   -1.0      3  \n",
       "288  EVERYONE PLEASE GO SUBSCRIBE TO MY CHANNEL OR ...   -1.0      3  \n",
       "36   View 851.247.920<br /><br /> Best youtube Vide...   -1.0      3  \n",
       "263                 Suscribe My Channel Please XD lol﻿   -1.0      1  \n",
       "386  EVERYONE PLEASE SUBSCRIBE TO MY CHANNEL OR CAN...   -1.0      3  \n",
       "404  hey its M.E.S here I&#39;m a young up and comi...   -1.0      4  \n",
       "341  Hey? Everyone Please take a moment to read thi...   -1.0      4  \n",
       "229  Hi Guys im an Upcoming Rapper if you could che...   -1.0      4  \n",
       "157                  Please Subscribe In My Channel →﻿   -1.0      2  \n",
       "48   Check my channel please! And listen to the bes...   -1.0      1  "
      ]
     },
     "execution_count": 16,
     "metadata": {},
     "output_type": "execute_result"
    }
   ],
   "source": [
    "df_train.iloc[L_train[:, 3] == SPAM].sample(10, random_state=2020)"
   ]
  },
  {
   "cell_type": "markdown",
   "id": "925850aa",
   "metadata": {},
   "source": [
    "Combining two labeling functions and checking the results"
   ]
  },
  {
   "cell_type": "code",
   "execution_count": 17,
   "id": "051768ac",
   "metadata": {},
   "outputs": [
    {
     "data": {
      "text/html": [
       "<div>\n",
       "<style scoped>\n",
       "    .dataframe tbody tr th:only-of-type {\n",
       "        vertical-align: middle;\n",
       "    }\n",
       "\n",
       "    .dataframe tbody tr th {\n",
       "        vertical-align: top;\n",
       "    }\n",
       "\n",
       "    .dataframe thead th {\n",
       "        text-align: right;\n",
       "    }\n",
       "</style>\n",
       "<table border=\"1\" class=\"dataframe\">\n",
       "  <thead>\n",
       "    <tr style=\"text-align: right;\">\n",
       "      <th></th>\n",
       "      <th>author</th>\n",
       "      <th>date</th>\n",
       "      <th>text</th>\n",
       "      <th>label</th>\n",
       "      <th>video</th>\n",
       "    </tr>\n",
       "  </thead>\n",
       "  <tbody>\n",
       "    <tr>\n",
       "      <th>230</th>\n",
       "      <td>LBEProductions</td>\n",
       "      <td>2014-11-12T01:40:22</td>\n",
       "      <td>Hey guys can you check my channel out plz. I d...</td>\n",
       "      <td>-1.0</td>\n",
       "      <td>1</td>\n",
       "    </tr>\n",
       "    <tr>\n",
       "      <th>287</th>\n",
       "      <td>DERRICK HANFORD</td>\n",
       "      <td>2014-12-05T22:52:29.316000</td>\n",
       "      <td>White people are going extinct for more inform...</td>\n",
       "      <td>-1.0</td>\n",
       "      <td>3</td>\n",
       "    </tr>\n",
       "    <tr>\n",
       "      <th>113</th>\n",
       "      <td>Carlos Thegamer</td>\n",
       "      <td>2013-12-01T01:20:21</td>\n",
       "      <td>subscribe to my channel people :D﻿</td>\n",
       "      <td>-1.0</td>\n",
       "      <td>1</td>\n",
       "    </tr>\n",
       "    <tr>\n",
       "      <th>301</th>\n",
       "      <td>Ractive</td>\n",
       "      <td>NaN</td>\n",
       "      <td>i been working so hard for the past 60 days to...</td>\n",
       "      <td>-1.0</td>\n",
       "      <td>4</td>\n",
       "    </tr>\n",
       "    <tr>\n",
       "      <th>246</th>\n",
       "      <td>Patrik Gybka</td>\n",
       "      <td>2015-05-05T09:32:04.687000</td>\n",
       "      <td>SUBSCRIBE MY CHANNEL PLEASE LOL PRO PLAYS)﻿</td>\n",
       "      <td>-1.0</td>\n",
       "      <td>3</td>\n",
       "    </tr>\n",
       "    <tr>\n",
       "      <th>8</th>\n",
       "      <td>Youyou A.</td>\n",
       "      <td>2014-10-21T15:20:49</td>\n",
       "      <td>I make guitar covers, please have a look at my...</td>\n",
       "      <td>-1.0</td>\n",
       "      <td>2</td>\n",
       "    </tr>\n",
       "    <tr>\n",
       "      <th>333</th>\n",
       "      <td>FreexGaming</td>\n",
       "      <td>2014-10-18T08:12:26</td>\n",
       "      <td>want to win borderlands the pre-sequel? check ...</td>\n",
       "      <td>-1.0</td>\n",
       "      <td>2</td>\n",
       "    </tr>\n",
       "    <tr>\n",
       "      <th>161</th>\n",
       "      <td>MarianMusicChannel</td>\n",
       "      <td>2014-08-24T03:57:52</td>\n",
       "      <td>Hello! I'm Marian, I'm a singer from Venezuela...</td>\n",
       "      <td>-1.0</td>\n",
       "      <td>2</td>\n",
       "    </tr>\n",
       "    <tr>\n",
       "      <th>171</th>\n",
       "      <td>MR magic man</td>\n",
       "      <td>2014-09-25T10:42:47</td>\n",
       "      <td>Please look at my channel﻿</td>\n",
       "      <td>-1.0</td>\n",
       "      <td>2</td>\n",
       "    </tr>\n",
       "    <tr>\n",
       "      <th>10</th>\n",
       "      <td>Dany PK</td>\n",
       "      <td>NaN</td>\n",
       "      <td>SUBSCRIBE TO MY CHANNEL X PLEASE!. SPARE</td>\n",
       "      <td>-1.0</td>\n",
       "      <td>4</td>\n",
       "    </tr>\n",
       "  </tbody>\n",
       "</table>\n",
       "</div>"
      ],
      "text/plain": [
       "                 author                        date  \\\n",
       "230      LBEProductions         2014-11-12T01:40:22   \n",
       "287     DERRICK HANFORD  2014-12-05T22:52:29.316000   \n",
       "113     Carlos Thegamer         2013-12-01T01:20:21   \n",
       "301             Ractive                         NaN   \n",
       "246        Patrik Gybka  2015-05-05T09:32:04.687000   \n",
       "8             Youyou A.         2014-10-21T15:20:49   \n",
       "333         FreexGaming         2014-10-18T08:12:26   \n",
       "161  MarianMusicChannel         2014-08-24T03:57:52   \n",
       "171        MR magic man         2014-09-25T10:42:47   \n",
       "10              Dany PK                         NaN   \n",
       "\n",
       "                                                  text  label  video  \n",
       "230  Hey guys can you check my channel out plz. I d...   -1.0      1  \n",
       "287  White people are going extinct for more inform...   -1.0      3  \n",
       "113                 subscribe to my channel people :D﻿   -1.0      1  \n",
       "301  i been working so hard for the past 60 days to...   -1.0      4  \n",
       "246        SUBSCRIBE MY CHANNEL PLEASE LOL PRO PLAYS)﻿   -1.0      3  \n",
       "8    I make guitar covers, please have a look at my...   -1.0      2  \n",
       "333  want to win borderlands the pre-sequel? check ...   -1.0      2  \n",
       "161  Hello! I'm Marian, I'm a singer from Venezuela...   -1.0      2  \n",
       "171                         Please look at my channel﻿   -1.0      2  \n",
       "10            SUBSCRIBE TO MY CHANNEL X PLEASE!. SPARE   -1.0      4  "
      ]
     },
     "execution_count": 17,
     "metadata": {},
     "output_type": "execute_result"
    }
   ],
   "source": [
    "buckets = get_label_buckets(L_train[:, 0], L_train[:, 3])\n",
    "\n",
    "df_train.iloc[buckets[(ABSTAIN, SPAM)]].sample(10, random_state=1)"
   ]
  },
  {
   "cell_type": "markdown",
   "id": "6fafbdeb",
   "metadata": {},
   "source": [
    "**Regex Based Labeling Functions:** Using regular expressions to make the labeling functions more adaptive over differnt variations of the pattern string and repeating the the same process as above."
   ]
  },
  {
   "cell_type": "code",
   "execution_count": 18,
   "id": "80508f9f",
   "metadata": {},
   "outputs": [],
   "source": [
    "#using regular expressions\n",
    "@labeling_function()\n",
    "def regex_check_out(x):\n",
    "    return SPAM if re.search(r\"check.*out\", x.text, flags=re.I) else ABSTAIN"
   ]
  },
  {
   "cell_type": "code",
   "execution_count": 19,
   "id": "0acd4729",
   "metadata": {},
   "outputs": [
    {
     "name": "stderr",
     "output_type": "stream",
     "text": [
      "100%|██████████| 1586/1586 [00:00<00:00, 23718.01it/s]\n"
     ]
    }
   ],
   "source": [
    "lfs = [check_out, check, regex_check_out]\n",
    "\n",
    "applier = PandasLFApplier(lfs=lfs)\n",
    "L_train = applier.apply(df=df_train)"
   ]
  },
  {
   "cell_type": "code",
   "execution_count": 20,
   "id": "0d19e8a0",
   "metadata": {},
   "outputs": [
    {
     "data": {
      "text/html": [
       "<div>\n",
       "<style scoped>\n",
       "    .dataframe tbody tr th:only-of-type {\n",
       "        vertical-align: middle;\n",
       "    }\n",
       "\n",
       "    .dataframe tbody tr th {\n",
       "        vertical-align: top;\n",
       "    }\n",
       "\n",
       "    .dataframe thead th {\n",
       "        text-align: right;\n",
       "    }\n",
       "</style>\n",
       "<table border=\"1\" class=\"dataframe\">\n",
       "  <thead>\n",
       "    <tr style=\"text-align: right;\">\n",
       "      <th></th>\n",
       "      <th>j</th>\n",
       "      <th>Polarity</th>\n",
       "      <th>Coverage</th>\n",
       "      <th>Overlaps</th>\n",
       "      <th>Conflicts</th>\n",
       "    </tr>\n",
       "  </thead>\n",
       "  <tbody>\n",
       "    <tr>\n",
       "      <th>check_out</th>\n",
       "      <td>0</td>\n",
       "      <td>[1]</td>\n",
       "      <td>0.214376</td>\n",
       "      <td>0.214376</td>\n",
       "      <td>0.0</td>\n",
       "    </tr>\n",
       "    <tr>\n",
       "      <th>check</th>\n",
       "      <td>1</td>\n",
       "      <td>[1]</td>\n",
       "      <td>0.257881</td>\n",
       "      <td>0.233922</td>\n",
       "      <td>0.0</td>\n",
       "    </tr>\n",
       "    <tr>\n",
       "      <th>regex_check_out</th>\n",
       "      <td>2</td>\n",
       "      <td>[1]</td>\n",
       "      <td>0.233922</td>\n",
       "      <td>0.233922</td>\n",
       "      <td>0.0</td>\n",
       "    </tr>\n",
       "  </tbody>\n",
       "</table>\n",
       "</div>"
      ],
      "text/plain": [
       "                 j Polarity  Coverage  Overlaps  Conflicts\n",
       "check_out        0      [1]  0.214376  0.214376        0.0\n",
       "check            1      [1]  0.257881  0.233922        0.0\n",
       "regex_check_out  2      [1]  0.233922  0.233922        0.0"
      ]
     },
     "execution_count": 20,
     "metadata": {},
     "output_type": "execute_result"
    }
   ],
   "source": [
    "LFAnalysis(L=L_train, lfs=lfs).lf_summary()"
   ]
  },
  {
   "cell_type": "code",
   "execution_count": 21,
   "id": "583f7a4f",
   "metadata": {},
   "outputs": [
    {
     "data": {
      "text/html": [
       "<div>\n",
       "<style scoped>\n",
       "    .dataframe tbody tr th:only-of-type {\n",
       "        vertical-align: middle;\n",
       "    }\n",
       "\n",
       "    .dataframe tbody tr th {\n",
       "        vertical-align: top;\n",
       "    }\n",
       "\n",
       "    .dataframe thead th {\n",
       "        text-align: right;\n",
       "    }\n",
       "</style>\n",
       "<table border=\"1\" class=\"dataframe\">\n",
       "  <thead>\n",
       "    <tr style=\"text-align: right;\">\n",
       "      <th></th>\n",
       "      <th>author</th>\n",
       "      <th>date</th>\n",
       "      <th>text</th>\n",
       "      <th>label</th>\n",
       "      <th>video</th>\n",
       "    </tr>\n",
       "  </thead>\n",
       "  <tbody>\n",
       "    <tr>\n",
       "      <th>112</th>\n",
       "      <td>ArioseRose</td>\n",
       "      <td>2014-11-13T15:20:31</td>\n",
       "      <td>Don't mind me, I'm just checking what the view...</td>\n",
       "      <td>-1.0</td>\n",
       "      <td>1</td>\n",
       "    </tr>\n",
       "    <tr>\n",
       "      <th>273</th>\n",
       "      <td>Artady</td>\n",
       "      <td>2014-08-11T16:27:55</td>\n",
       "      <td>https://soundcloud.com/artady please check my ...</td>\n",
       "      <td>-1.0</td>\n",
       "      <td>2</td>\n",
       "    </tr>\n",
       "    <tr>\n",
       "      <th>190</th>\n",
       "      <td>Warrdrew</td>\n",
       "      <td>2014-11-07T07:46:57</td>\n",
       "      <td>I'm here to check the views.. holy shit﻿</td>\n",
       "      <td>-1.0</td>\n",
       "      <td>1</td>\n",
       "    </tr>\n",
       "    <tr>\n",
       "      <th>146</th>\n",
       "      <td>Bob Kanowski</td>\n",
       "      <td>2013-11-28T12:33:27</td>\n",
       "      <td>i turned it on mute as soon is i came on i jus...</td>\n",
       "      <td>-1.0</td>\n",
       "      <td>1</td>\n",
       "    </tr>\n",
       "    <tr>\n",
       "      <th>139</th>\n",
       "      <td>MFkin PRXPHETZ</td>\n",
       "      <td>2014-01-20T09:08:39</td>\n",
       "      <td>if you like raw talent, raw lyrics, straight r...</td>\n",
       "      <td>-1.0</td>\n",
       "      <td>1</td>\n",
       "    </tr>\n",
       "    <tr>\n",
       "      <th>191</th>\n",
       "      <td>RezAIIDay</td>\n",
       "      <td>2014-11-05T22:50:58</td>\n",
       "      <td>Such a good song ans Katy sounds great over th...</td>\n",
       "      <td>-1.0</td>\n",
       "      <td>2</td>\n",
       "    </tr>\n",
       "    <tr>\n",
       "      <th>16</th>\n",
       "      <td>zhichao wang</td>\n",
       "      <td>2013-11-29T02:13:56</td>\n",
       "      <td>i think about 100 millions of the views come f...</td>\n",
       "      <td>-1.0</td>\n",
       "      <td>1</td>\n",
       "    </tr>\n",
       "    <tr>\n",
       "      <th>162</th>\n",
       "      <td>Owen Lai</td>\n",
       "      <td>2013-12-01T04:51:52</td>\n",
       "      <td>just checking the views﻿</td>\n",
       "      <td>-1.0</td>\n",
       "      <td>1</td>\n",
       "    </tr>\n",
       "    <tr>\n",
       "      <th>239</th>\n",
       "      <td>Cony</td>\n",
       "      <td>2013-11-28T16:01:47</td>\n",
       "      <td>You should check my channel for Funny VIDEOS!!﻿</td>\n",
       "      <td>-1.0</td>\n",
       "      <td>1</td>\n",
       "    </tr>\n",
       "    <tr>\n",
       "      <th>322</th>\n",
       "      <td>Minecraft-Viasat</td>\n",
       "      <td>2014-11-03T14:38:53</td>\n",
       "      <td>Check my channel﻿</td>\n",
       "      <td>-1.0</td>\n",
       "      <td>1</td>\n",
       "    </tr>\n",
       "  </tbody>\n",
       "</table>\n",
       "</div>"
      ],
      "text/plain": [
       "               author                 date  \\\n",
       "112        ArioseRose  2014-11-13T15:20:31   \n",
       "273            Artady  2014-08-11T16:27:55   \n",
       "190          Warrdrew  2014-11-07T07:46:57   \n",
       "146      Bob Kanowski  2013-11-28T12:33:27   \n",
       "139    MFkin PRXPHETZ  2014-01-20T09:08:39   \n",
       "191         RezAIIDay  2014-11-05T22:50:58   \n",
       "16       zhichao wang  2013-11-29T02:13:56   \n",
       "162          Owen Lai  2013-12-01T04:51:52   \n",
       "239              Cony  2013-11-28T16:01:47   \n",
       "322  Minecraft-Viasat  2014-11-03T14:38:53   \n",
       "\n",
       "                                                  text  label  video  \n",
       "112  Don't mind me, I'm just checking what the view...   -1.0      1  \n",
       "273  https://soundcloud.com/artady please check my ...   -1.0      2  \n",
       "190           I'm here to check the views.. holy shit﻿   -1.0      1  \n",
       "146  i turned it on mute as soon is i came on i jus...   -1.0      1  \n",
       "139  if you like raw talent, raw lyrics, straight r...   -1.0      1  \n",
       "191  Such a good song ans Katy sounds great over th...   -1.0      2  \n",
       "16   i think about 100 millions of the views come f...   -1.0      1  \n",
       "162                           just checking the views﻿   -1.0      1  \n",
       "239    You should check my channel for Funny VIDEOS!!﻿   -1.0      1  \n",
       "322                                  Check my channel﻿   -1.0      1  "
      ]
     },
     "execution_count": 21,
     "metadata": {},
     "output_type": "execute_result"
    }
   ],
   "source": [
    "buckets = get_label_buckets(L_train[:, 1], L_train[:, 2])\n",
    "df_train.iloc[buckets[(SPAM, ABSTAIN)]].sample(10, random_state=2020)"
   ]
  },
  {
   "cell_type": "markdown",
   "id": "a7c53347",
   "metadata": {},
   "source": [
    "Let's use a 3rd party model, TextBlob in this case, to write a labeling function. Snorkel makes this very simple to implement.\n",
    "\n",
    "TextBlob is a Python library that provides simple and intuitive tools for natural language processing (NLP). It is built on top of the NLTK (Natural Language Toolkit) and provides an easy-to-use interface for tasks like part-of-speech tagging, noun phrase extraction, sentiment analysis, and more.\n",
    "\n",
    "In the context of the code snippet you provided, TextBlob is used for sentiment analysis. Sentiment analysis is the process of determining the sentiment or emotional tone expressed in a piece of text, whether it is positive, negative, or neutral.\n",
    "\n",
    "TextBlob provides a sentiment analysis feature that computes two scores for a given text: polarity and subjectivity.\n",
    "\n",
    "- Polarity: The polarity score measures the degree of positive or negative sentiment expressed in the text. It ranges from -1 to 1, where -1 represents extremely negative sentiment, 1 represents extremely positive sentiment, and 0 represents neutral sentiment. Polarity is a quantitative value that indicates the sentiment intensity.\n",
    "\n",
    "- Subjectivity: The subjectivity score measures the degree of subjective or objective information in the text. It ranges from 0 to 1, where 0 represents highly objective or factual information, and 1 represents highly subjective or opinionated information. Subjectivity is a measure of how much personal opinion or bias is present in the text."
   ]
  },
  {
   "cell_type": "code",
   "execution_count": 22,
   "id": "d9f279f7",
   "metadata": {},
   "outputs": [],
   "source": [
    "@preprocessor(memoize=True)\n",
    "def textblob_sentiment(x):\n",
    "    scores = TextBlob(x.text)\n",
    "    x.polarity = scores.sentiment.polarity\n",
    "    x.subjectivity = scores.sentiment.subjectivity\n",
    "    return x"
   ]
  },
  {
   "cell_type": "code",
   "execution_count": 23,
   "id": "10f8a4b7",
   "metadata": {},
   "outputs": [],
   "source": [
    "@labeling_function(pre=[textblob_sentiment])\n",
    "def textblob_polarity(x):\n",
    "    return HAM if x.polarity > 0.9 else ABSTAIN"
   ]
  },
  {
   "cell_type": "code",
   "execution_count": 24,
   "id": "2e410d00",
   "metadata": {},
   "outputs": [],
   "source": [
    "@labeling_function(pre=[textblob_sentiment])\n",
    "def textblob_subjectivity(x):\n",
    "    return HAM if x.subjectivity >= 0.5 else ABSTAIN"
   ]
  },
  {
   "cell_type": "code",
   "execution_count": 25,
   "id": "a2b2efa4",
   "metadata": {},
   "outputs": [
    {
     "name": "stderr",
     "output_type": "stream",
     "text": [
      "100%|██████████| 1586/1586 [00:01<00:00, 1539.73it/s]\n"
     ]
    }
   ],
   "source": [
    "lfs = [textblob_polarity, textblob_subjectivity]\n",
    "\n",
    "applier = PandasLFApplier(lfs)\n",
    "L_train = applier.apply(df_train)"
   ]
  },
  {
   "cell_type": "code",
   "execution_count": 26,
   "id": "8b3cc915",
   "metadata": {},
   "outputs": [
    {
     "data": {
      "text/html": [
       "<div>\n",
       "<style scoped>\n",
       "    .dataframe tbody tr th:only-of-type {\n",
       "        vertical-align: middle;\n",
       "    }\n",
       "\n",
       "    .dataframe tbody tr th {\n",
       "        vertical-align: top;\n",
       "    }\n",
       "\n",
       "    .dataframe thead th {\n",
       "        text-align: right;\n",
       "    }\n",
       "</style>\n",
       "<table border=\"1\" class=\"dataframe\">\n",
       "  <thead>\n",
       "    <tr style=\"text-align: right;\">\n",
       "      <th></th>\n",
       "      <th>j</th>\n",
       "      <th>Polarity</th>\n",
       "      <th>Coverage</th>\n",
       "      <th>Overlaps</th>\n",
       "      <th>Conflicts</th>\n",
       "    </tr>\n",
       "  </thead>\n",
       "  <tbody>\n",
       "    <tr>\n",
       "      <th>textblob_polarity</th>\n",
       "      <td>0</td>\n",
       "      <td>[0]</td>\n",
       "      <td>0.035309</td>\n",
       "      <td>0.013871</td>\n",
       "      <td>0.0</td>\n",
       "    </tr>\n",
       "    <tr>\n",
       "      <th>textblob_subjectivity</th>\n",
       "      <td>1</td>\n",
       "      <td>[0]</td>\n",
       "      <td>0.357503</td>\n",
       "      <td>0.013871</td>\n",
       "      <td>0.0</td>\n",
       "    </tr>\n",
       "  </tbody>\n",
       "</table>\n",
       "</div>"
      ],
      "text/plain": [
       "                       j Polarity  Coverage  Overlaps  Conflicts\n",
       "textblob_polarity      0      [0]  0.035309  0.013871        0.0\n",
       "textblob_subjectivity  1      [0]  0.357503  0.013871        0.0"
      ]
     },
     "execution_count": 26,
     "metadata": {},
     "output_type": "execute_result"
    }
   ],
   "source": [
    "LFAnalysis(L_train, lfs).lf_summary()"
   ]
  },
  {
   "cell_type": "markdown",
   "id": "85677eec",
   "metadata": {},
   "source": [
    "## Writing more labeling functions"
   ]
  },
  {
   "cell_type": "markdown",
   "id": "4df765ee",
   "metadata": {},
   "source": [
    "Single labeling functions arent enough to test the entire databsase with accuracy as they do not have enough coverage, we usually need to combine differnt labeling functions(more rubost and accurate ones) to get this done.\n",
    "\n",
    "**Keyword based labeling fucntions:** These are similar to the ones used befeore with the labeling_fucntion decorator. here we just make a few changes"
   ]
  },
  {
   "cell_type": "code",
   "execution_count": 27,
   "id": "ba706dec",
   "metadata": {},
   "outputs": [],
   "source": [
    "def keyword_lookup(x, keywords, label):\n",
    "    if any(word in x.text.lower() for word in keywords):\n",
    "        return label\n",
    "    return ABSTAIN\n",
    "\n",
    "\n",
    "def make_keyword_lf(keywords, label=SPAM):\n",
    "    return LabelingFunction(\n",
    "        name=f\"keyword_{keywords[0]}\",\n",
    "        f=keyword_lookup,\n",
    "        resources=dict(keywords=keywords, label=label),\n",
    "    )\n",
    "\n",
    "\n",
    "\"\"\"Spam comments talk about 'my channel', 'my video', etc.\"\"\"\n",
    "keyword_my = make_keyword_lf(keywords=[\"my\"])\n",
    "\n",
    "\"\"\"Spam comments ask users to subscribe to their channels.\"\"\"\n",
    "keyword_subscribe = make_keyword_lf(keywords=[\"subscribe\"])\n",
    "\n",
    "\"\"\"Spam comments post links to other channels.\"\"\"\n",
    "keyword_link = make_keyword_lf(keywords=[\"http\"])\n",
    "\n",
    "\"\"\"Spam comments make requests rather than commenting.\"\"\"\n",
    "keyword_please = make_keyword_lf(keywords=[\"please\", \"plz\"])\n",
    "\n",
    "\"\"\"Ham comments actually talk about the video's content.\"\"\"\n",
    "keyword_song = make_keyword_lf(keywords=[\"song\"], label=HAM)"
   ]
  },
  {
   "cell_type": "markdown",
   "id": "bcd488de",
   "metadata": {},
   "source": [
    "Having other methods such as a Rule of Thumb or Heuristics(length of text) could help too. These are not extremely accurate but will get the job done to a certain extent.\n",
    "\n",
    "An example is given below"
   ]
  },
  {
   "cell_type": "code",
   "execution_count": 28,
   "id": "844306f9",
   "metadata": {},
   "outputs": [],
   "source": [
    "@labeling_function()\n",
    "def short_comment(x):\n",
    "    \"\"\"Ham comments are often short, such as 'cool video!'\"\"\"\n",
    "    return HAM if len(x.text.split()) < 5 else ABSTAIN"
   ]
  },
  {
   "cell_type": "code",
   "execution_count": 29,
   "id": "3ab1a237",
   "metadata": {},
   "outputs": [],
   "source": [
    "# The SpacyPreprocessor parses the text in text_field and\n",
    "# stores the new enriched representation in doc_field\n",
    "spacy = SpacyPreprocessor(text_field=\"text\", doc_field=\"doc\", memoize=True)\n",
    "\n",
    "@labeling_function(pre=[spacy])\n",
    "def has_person(x):\n",
    "    \"\"\"Ham comments mention specific people and are short.\"\"\"\n",
    "    if len(x.doc) < 20 and any([ent.label_ == \"PERSON\" for ent in x.doc.ents]):\n",
    "        return HAM\n",
    "    else:\n",
    "        return ABSTAIN"
   ]
  },
  {
   "cell_type": "code",
   "execution_count": 30,
   "id": "8f16bc51",
   "metadata": {},
   "outputs": [],
   "source": [
    "#snorkel has a pre built labeling function like decorator that uses spaCy as it is a very common nlp preprocessor\n",
    "\n",
    "@nlp_labeling_function()\n",
    "def has_person_nlp(x):\n",
    "    \"\"\"Ham comments mention specific people and are short.\"\"\"\n",
    "    if len(x.doc) < 20 and any([ent.label_ == \"PERSON\" for ent in x.doc.ents]):\n",
    "        return HAM\n",
    "    else:\n",
    "        return ABSTAIN"
   ]
  },
  {
   "cell_type": "markdown",
   "id": "0cae8a29",
   "metadata": {},
   "source": [
    "## Outputs"
   ]
  },
  {
   "cell_type": "markdown",
   "id": "3c62f443",
   "metadata": {},
   "source": [
    "Let's move onto learning how we can go about combining labeling function outputs with labeling models."
   ]
  },
  {
   "cell_type": "code",
   "execution_count": 31,
   "id": "41960762",
   "metadata": {},
   "outputs": [],
   "source": [
    "lfs = [\n",
    "    keyword_my,\n",
    "    keyword_subscribe,\n",
    "    keyword_link,\n",
    "    keyword_please,\n",
    "    keyword_song,\n",
    "    regex_check_out,\n",
    "    short_comment,\n",
    "    has_person_nlp,\n",
    "    textblob_polarity,\n",
    "    textblob_subjectivity,\n",
    "]"
   ]
  },
  {
   "cell_type": "code",
   "execution_count": 32,
   "id": "6b828fcb",
   "metadata": {},
   "outputs": [
    {
     "name": "stderr",
     "output_type": "stream",
     "text": [
      "100%|██████████| 1586/1586 [00:11<00:00, 134.46it/s]\n",
      "100%|██████████| 250/250 [00:02<00:00, 117.49it/s]\n"
     ]
    }
   ],
   "source": [
    "applier = PandasLFApplier(lfs=lfs)\n",
    "L_train = applier.apply(df=df_train)\n",
    "L_test = applier.apply(df=df_test)"
   ]
  },
  {
   "cell_type": "code",
   "execution_count": 33,
   "id": "c034a07f",
   "metadata": {},
   "outputs": [
    {
     "data": {
      "text/html": [
       "<div>\n",
       "<style scoped>\n",
       "    .dataframe tbody tr th:only-of-type {\n",
       "        vertical-align: middle;\n",
       "    }\n",
       "\n",
       "    .dataframe tbody tr th {\n",
       "        vertical-align: top;\n",
       "    }\n",
       "\n",
       "    .dataframe thead th {\n",
       "        text-align: right;\n",
       "    }\n",
       "</style>\n",
       "<table border=\"1\" class=\"dataframe\">\n",
       "  <thead>\n",
       "    <tr style=\"text-align: right;\">\n",
       "      <th></th>\n",
       "      <th>j</th>\n",
       "      <th>Polarity</th>\n",
       "      <th>Coverage</th>\n",
       "      <th>Overlaps</th>\n",
       "      <th>Conflicts</th>\n",
       "    </tr>\n",
       "  </thead>\n",
       "  <tbody>\n",
       "    <tr>\n",
       "      <th>keyword_my</th>\n",
       "      <td>0</td>\n",
       "      <td>[1]</td>\n",
       "      <td>0.198613</td>\n",
       "      <td>0.186003</td>\n",
       "      <td>0.110971</td>\n",
       "    </tr>\n",
       "    <tr>\n",
       "      <th>keyword_subscribe</th>\n",
       "      <td>1</td>\n",
       "      <td>[1]</td>\n",
       "      <td>0.127364</td>\n",
       "      <td>0.107188</td>\n",
       "      <td>0.067465</td>\n",
       "    </tr>\n",
       "    <tr>\n",
       "      <th>keyword_http</th>\n",
       "      <td>2</td>\n",
       "      <td>[1]</td>\n",
       "      <td>0.119168</td>\n",
       "      <td>0.101513</td>\n",
       "      <td>0.082598</td>\n",
       "    </tr>\n",
       "    <tr>\n",
       "      <th>keyword_please</th>\n",
       "      <td>3</td>\n",
       "      <td>[1]</td>\n",
       "      <td>0.112232</td>\n",
       "      <td>0.109710</td>\n",
       "      <td>0.057377</td>\n",
       "    </tr>\n",
       "    <tr>\n",
       "      <th>keyword_song</th>\n",
       "      <td>4</td>\n",
       "      <td>[0]</td>\n",
       "      <td>0.141866</td>\n",
       "      <td>0.111602</td>\n",
       "      <td>0.043506</td>\n",
       "    </tr>\n",
       "    <tr>\n",
       "      <th>regex_check_out</th>\n",
       "      <td>5</td>\n",
       "      <td>[1]</td>\n",
       "      <td>0.233922</td>\n",
       "      <td>0.129256</td>\n",
       "      <td>0.083859</td>\n",
       "    </tr>\n",
       "    <tr>\n",
       "      <th>short_comment</th>\n",
       "      <td>6</td>\n",
       "      <td>[0]</td>\n",
       "      <td>0.225725</td>\n",
       "      <td>0.144388</td>\n",
       "      <td>0.074401</td>\n",
       "    </tr>\n",
       "    <tr>\n",
       "      <th>has_person_nlp</th>\n",
       "      <td>7</td>\n",
       "      <td>[0]</td>\n",
       "      <td>0.083859</td>\n",
       "      <td>0.062421</td>\n",
       "      <td>0.027743</td>\n",
       "    </tr>\n",
       "    <tr>\n",
       "      <th>textblob_polarity</th>\n",
       "      <td>8</td>\n",
       "      <td>[0]</td>\n",
       "      <td>0.035309</td>\n",
       "      <td>0.030895</td>\n",
       "      <td>0.005044</td>\n",
       "    </tr>\n",
       "    <tr>\n",
       "      <th>textblob_subjectivity</th>\n",
       "      <td>9</td>\n",
       "      <td>[0]</td>\n",
       "      <td>0.357503</td>\n",
       "      <td>0.261665</td>\n",
       "      <td>0.160151</td>\n",
       "    </tr>\n",
       "  </tbody>\n",
       "</table>\n",
       "</div>"
      ],
      "text/plain": [
       "                       j Polarity  Coverage  Overlaps  Conflicts\n",
       "keyword_my             0      [1]  0.198613  0.186003   0.110971\n",
       "keyword_subscribe      1      [1]  0.127364  0.107188   0.067465\n",
       "keyword_http           2      [1]  0.119168  0.101513   0.082598\n",
       "keyword_please         3      [1]  0.112232  0.109710   0.057377\n",
       "keyword_song           4      [0]  0.141866  0.111602   0.043506\n",
       "regex_check_out        5      [1]  0.233922  0.129256   0.083859\n",
       "short_comment          6      [0]  0.225725  0.144388   0.074401\n",
       "has_person_nlp         7      [0]  0.083859  0.062421   0.027743\n",
       "textblob_polarity      8      [0]  0.035309  0.030895   0.005044\n",
       "textblob_subjectivity  9      [0]  0.357503  0.261665   0.160151"
      ]
     },
     "execution_count": 33,
     "metadata": {},
     "output_type": "execute_result"
    }
   ],
   "source": [
    "LFAnalysis(L=L_train, lfs=lfs).lf_summary()"
   ]
  },
  {
   "cell_type": "markdown",
   "id": "8b13c16f",
   "metadata": {},
   "source": [
    "We plot a histogram to get an idea about the coverages of the labeling functions"
   ]
  },
  {
   "cell_type": "code",
   "execution_count": 34,
   "id": "33708139",
   "metadata": {},
   "outputs": [
    {
     "data": {
      "image/png": "[encoded data removed]",
      "text/plain": [
       "<Figure size 640x480 with 1 Axes>"
      ]
     },
     "metadata": {},
     "output_type": "display_data"
    }
   ],
   "source": [
    "def plot_label_frequency(L):\n",
    "    plt.hist((L != ABSTAIN).sum(axis=1), density=True, bins=range(L.shape[1]))\n",
    "    plt.xlabel(\"Number of labels\")\n",
    "    plt.ylabel(\"Fraction of dataset\")\n",
    "    plt.show()\n",
    "\n",
    "\n",
    "plot_label_frequency(L_train)"
   ]
  },
  {
   "cell_type": "markdown",
   "id": "50641f8e",
   "metadata": {},
   "source": [
    "We now convert the labels from our labeling functions to a single noise-aware probabilistic label per data. we do so by taking a majority vote on what the data should be labeled as .i.e if more labeling functions agree that the text/data is spam , then we label it as spam"
   ]
  },
  {
   "cell_type": "code",
   "execution_count": 35,
   "id": "61723501",
   "metadata": {},
   "outputs": [],
   "source": [
    "majority_model = MajorityLabelVoter()\n",
    "preds_train = majority_model.predict(L=L_train)"
   ]
  },
  {
   "cell_type": "code",
   "execution_count": 36,
   "id": "8e10f29f",
   "metadata": {},
   "outputs": [
    {
     "data": {
      "text/plain": [
       "array([ 1,  1, -1, ...,  1,  1,  1])"
      ]
     },
     "execution_count": 36,
     "metadata": {},
     "output_type": "execute_result"
    }
   ],
   "source": [
    "preds_train"
   ]
  },
  {
   "cell_type": "markdown",
   "id": "0c495a08",
   "metadata": {},
   "source": [
    "However there may be functions that are correlated and might give a false sense of majority , to handle this we use a differernt snorkel label model to combine inputs of the labeling functions."
   ]
  },
  {
   "cell_type": "code",
   "execution_count": 37,
   "id": "4aa249f6",
   "metadata": {},
   "outputs": [
    {
     "name": "stderr",
     "output_type": "stream",
     "text": [
      "INFO:root:Computing O...\n",
      "INFO:root:Estimating \\mu...\n",
      "  0%|          | 0/500 [00:00<?, ?epoch/s]INFO:root:[0 epochs]: TRAIN:[loss=0.164]\n",
      "INFO:root:[100 epochs]: TRAIN:[loss=0.011]\n",
      " 24%|██▍       | 122/500 [00:00<00:00, 1211.16epoch/s]INFO:root:[200 epochs]: TRAIN:[loss=0.009]\n",
      " 49%|████▉     | 244/500 [00:00<00:00, 1183.58epoch/s]INFO:root:[300 epochs]: TRAIN:[loss=0.008]\n",
      " 76%|███████▌  | 378/500 [00:00<00:00, 1249.50epoch/s]INFO:root:[400 epochs]: TRAIN:[loss=0.008]\n",
      "100%|██████████| 500/500 [00:00<00:00, 1253.20epoch/s]\n",
      "INFO:root:Finished Training\n"
     ]
    }
   ],
   "source": [
    "label_model = LabelModel(cardinality=2, verbose=True)\n",
    "label_model.fit(L_train=L_train, n_epochs=500, log_freq=100, seed=123)"
   ]
  },
  {
   "cell_type": "code",
   "execution_count": 38,
   "id": "3e935a0d",
   "metadata": {},
   "outputs": [
    {
     "name": "stdout",
     "output_type": "stream",
     "text": [
      "Majority Vote Accuracy:   84.4%\n",
      "Label Model Accuracy:     87.6%\n"
     ]
    }
   ],
   "source": [
    "majority_acc = majority_model.score(L=L_test, Y=Y_test, tie_break_policy=\"random\")[\"accuracy\"]\n",
    "print(f\"{'Majority Vote Accuracy:':<25} {majority_acc * 100:.1f}%\")\n",
    "\n",
    "label_model_acc = label_model.score(L=L_test, Y=Y_test, tie_break_policy=\"random\")[\"accuracy\"]\n",
    "print(f\"{'Label Model Accuracy:':<25} {label_model_acc * 100:.1f}%\")"
   ]
  },
  {
   "cell_type": "code",
   "execution_count": 39,
   "id": "0a7496ca",
   "metadata": {},
   "outputs": [
    {
     "data": {
      "text/plain": [
       "array([[6.57400115e-01, 3.42599885e-01],\n",
       "       [2.25180969e-06, 9.99997748e-01],\n",
       "       [5.00000000e-01, 5.00000000e-01],\n",
       "       ...,\n",
       "       [2.27481729e-07, 9.99999773e-01],\n",
       "       [1.08918612e-03, 9.98910814e-01],\n",
       "       [1.22570269e-08, 9.99999988e-01]])"
      ]
     },
     "execution_count": 39,
     "metadata": {},
     "output_type": "execute_result"
    }
   ],
   "source": [
    "probs_train = label_model.predict_proba(L=L_train)\n",
    "probs_train"
   ]
  },
  {
   "cell_type": "code",
   "execution_count": 40,
   "id": "a068a05f",
   "metadata": {},
   "outputs": [
    {
     "data": {
      "image/png": "[encoded data removed]",
      "text/plain": [
       "<Figure size 640x480 with 1 Axes>"
      ]
     },
     "metadata": {},
     "output_type": "display_data"
    }
   ],
   "source": [
    "def plot_probabilities_histogram(Y):\n",
    "    plt.hist(Y, bins=10)\n",
    "    plt.xlabel(\"Probability of SPAM\")\n",
    "    plt.ylabel(\"Number of data points\")\n",
    "    plt.show()\n",
    "\n",
    "plot_probabilities_histogram(probs_train[:, SPAM])"
   ]
  },
  {
   "cell_type": "markdown",
   "id": "566161d3",
   "metadata": {},
   "source": [
    "There might be some data which do not get any label from the functions , we filter them out as follows"
   ]
  },
  {
   "cell_type": "code",
   "execution_count": 41,
   "id": "f4ca36ca",
   "metadata": {},
   "outputs": [],
   "source": [
    "df_train_filtered, probs_train_filtered = filter_unlabeled_dataframe(\n",
    "    X=df_train, y=probs_train, L=L_train\n",
    ")"
   ]
  },
  {
   "cell_type": "markdown",
   "id": "da04d5cb",
   "metadata": {},
   "source": [
    "## Training a classifier"
   ]
  },
  {
   "cell_type": "code",
   "execution_count": 42,
   "id": "05fb65c3",
   "metadata": {},
   "outputs": [],
   "source": [
    "vectorizer = CountVectorizer(ngram_range=(1, 5))\n",
    "X_train = vectorizer.fit_transform(df_train_filtered.text.tolist())\n",
    "X_test = vectorizer.transform(df_test.text.tolist())"
   ]
  },
  {
   "cell_type": "code",
   "execution_count": 43,
   "id": "9a42aabd",
   "metadata": {},
   "outputs": [
    {
     "data": {
      "text/plain": [
       "array([0, 1, 0, ..., 1, 1, 1])"
      ]
     },
     "execution_count": 43,
     "metadata": {},
     "output_type": "execute_result"
    }
   ],
   "source": [
    "preds_train_filtered = probs_to_preds(probs=probs_train_filtered)\n",
    "preds_train_filtered"
   ]
  },
  {
   "cell_type": "code",
   "execution_count": 44,
   "id": "bc8646d5",
   "metadata": {},
   "outputs": [
    {
     "data": {
      "text/html": [
       "<style>#sk-container-id-1 {color: black;background-color: white;}#sk-container-id-1 pre{padding: 0;}#sk-container-id-1 div.sk-toggleable {background-color: white;}#sk-container-id-1 label.sk-toggleable__label {cursor: pointer;display: block;width: 100%;margin-bottom: 0;padding: 0.3em;box-sizing: border-box;text-align: center;}#sk-container-id-1 label.sk-toggleable__label-arrow:before {content: \"▸\";float: left;margin-right: 0.25em;color: #696969;}#sk-container-id-1 label.sk-toggleable__label-arrow:hover:before {color: black;}#sk-container-id-1 div.sk-estimator:hover label.sk-toggleable__label-arrow:before {color: black;}#sk-container-id-1 div.sk-toggleable__content {max-height: 0;max-width: 0;overflow: hidden;text-align: left;background-color: #f0f8ff;}#sk-container-id-1 div.sk-toggleable__content pre {margin: 0.2em;color: black;border-radius: 0.25em;background-color: #f0f8ff;}#sk-container-id-1 input.sk-toggleable__control:checked~div.sk-toggleable__content {max-height: 200px;max-width: 100%;overflow: auto;}#sk-container-id-1 input.sk-toggleable__control:checked~label.sk-toggleable__label-arrow:before {content: \"▾\";}#sk-container-id-1 div.sk-estimator input.sk-toggleable__control:checked~label.sk-toggleable__label {background-color: #d4ebff;}#sk-container-id-1 div.sk-label input.sk-toggleable__control:checked~label.sk-toggleable__label {background-color: #d4ebff;}#sk-container-id-1 input.sk-hidden--visually {border: 0;clip: rect(1px 1px 1px 1px);clip: rect(1px, 1px, 1px, 1px);height: 1px;margin: -1px;overflow: hidden;padding: 0;position: absolute;width: 1px;}#sk-container-id-1 div.sk-estimator {font-family: monospace;background-color: #f0f8ff;border: 1px dotted black;border-radius: 0.25em;box-sizing: border-box;margin-bottom: 0.5em;}#sk-container-id-1 div.sk-estimator:hover {background-color: #d4ebff;}#sk-container-id-1 div.sk-parallel-item::after {content: \"\";width: 100%;border-bottom: 1px solid gray;flex-grow: 1;}#sk-container-id-1 div.sk-label:hover label.sk-toggleable__label {background-color: #d4ebff;}#sk-container-id-1 div.sk-serial::before {content: \"\";position: absolute;border-left: 1px solid gray;box-sizing: border-box;top: 0;bottom: 0;left: 50%;z-index: 0;}#sk-container-id-1 div.sk-serial {display: flex;flex-direction: column;align-items: center;background-color: white;padding-right: 0.2em;padding-left: 0.2em;position: relative;}#sk-container-id-1 div.sk-item {position: relative;z-index: 1;}#sk-container-id-1 div.sk-parallel {display: flex;align-items: stretch;justify-content: center;background-color: white;position: relative;}#sk-container-id-1 div.sk-item::before, #sk-container-id-1 div.sk-parallel-item::before {content: \"\";position: absolute;border-left: 1px solid gray;box-sizing: border-box;top: 0;bottom: 0;left: 50%;z-index: -1;}#sk-container-id-1 div.sk-parallel-item {display: flex;flex-direction: column;z-index: 1;position: relative;background-color: white;}#sk-container-id-1 div.sk-parallel-item:first-child::after {align-self: flex-end;width: 50%;}#sk-container-id-1 div.sk-parallel-item:last-child::after {align-self: flex-start;width: 50%;}#sk-container-id-1 div.sk-parallel-item:only-child::after {width: 0;}#sk-container-id-1 div.sk-dashed-wrapped {border: 1px dashed gray;margin: 0 0.4em 0.5em 0.4em;box-sizing: border-box;padding-bottom: 0.4em;background-color: white;}#sk-container-id-1 div.sk-label label {font-family: monospace;font-weight: bold;display: inline-block;line-height: 1.2em;}#sk-container-id-1 div.sk-label-container {text-align: center;}#sk-container-id-1 div.sk-container {/* jupyter's `normalize.less` sets `[hidden] { display: none; }` but bootstrap.min.css set `[hidden] { display: none !important; }` so we also need the `!important` here to be able to override the default hidden behavior on the sphinx rendered scikit-learn.org. See: https://github.com/scikit-learn/scikit-learn/issues/21755 */display: inline-block !important;position: relative;}#sk-container-id-1 div.sk-text-repr-fallback {display: none;}</style><div id=\"sk-container-id-1\" class=\"sk-top-container\"><div class=\"sk-text-repr-fallback\"><pre>LogisticRegression(C=1000.0, solver=&#x27;liblinear&#x27;)</pre><b>In a Jupyter environment, please rerun this cell to show the HTML representation or trust the notebook. <br />On GitHub, the HTML representation is unable to render, please try loading this page with nbviewer.org.</b></div><div class=\"sk-container\" hidden><div class=\"sk-item\"><div class=\"sk-estimator sk-toggleable\"><input class=\"sk-toggleable__control sk-hidden--visually\" id=\"sk-estimator-id-1\" type=\"checkbox\" checked><label for=\"sk-estimator-id-1\" class=\"sk-toggleable__label sk-toggleable__label-arrow\">LogisticRegression</label><div class=\"sk-toggleable__content\"><pre>LogisticRegression(C=1000.0, solver=&#x27;liblinear&#x27;)</pre></div></div></div></div></div>"
      ],
      "text/plain": [
       "LogisticRegression(C=1000.0, solver='liblinear')"
      ]
     },
     "execution_count": 44,
     "metadata": {},
     "output_type": "execute_result"
    }
   ],
   "source": [
    "sklearn_model = LogisticRegression(C=1e3, solver=\"liblinear\")\n",
    "sklearn_model.fit(X=X_train, y=preds_train_filtered)"
   ]
  },
  {
   "cell_type": "code",
   "execution_count": 45,
   "id": "50fc6dd5",
   "metadata": {},
   "outputs": [
    {
     "name": "stdout",
     "output_type": "stream",
     "text": [
      "Test Accuracy: 93.6%\n"
     ]
    }
   ],
   "source": [
    "print(f\"Test Accuracy: {sklearn_model.score(X=X_test, y=Y_test) * 100:.1f}%\")"
   ]
  }
 ],
 "metadata": {
  "kernelspec": {
   "display_name": "Python 3 (ipykernel)",
   "language": "python",
   "name": "python3"
  },
  "language_info": {
   "codemirror_mode": {
    "name": "ipython",
    "version": 3
   },
   "file_extension": ".py",
   "mimetype": "text/x-python",
   "name": "python",
   "nbconvert_exporter": "python",
   "pygments_lexer": "ipython3",
   "version": "3.10.9"
  }
 },
 "nbformat": 4,
 "nbformat_minor": 5
}
